{
 "cells": [
  {
   "cell_type": "code",
   "execution_count": 2,
   "id": "22146a4f",
   "metadata": {},
   "outputs": [
    {
     "name": "stdout",
     "output_type": "stream",
     "text": [
      "       Date   Open    High    Low    Close      Volume   Adj.  Close*\n",
      "0  19-Sep-03   29.76  29.97  29.52     29.96  92433800  29.79     NaN\n",
      "1  18-Sep-03   28.49  29.51  28.42     29.50  67268096  29.34     NaN\n",
      "2  17-Sep-03   28.76  28.95  28.47     28.50  47221600  28.34     NaN\n",
      "3  16-Sep-03   28.41  28.95  28.32     28.90  52060600  28.74     NaN\n",
      "4  15-Sep-03   28.37  28.61  28.33     28.36  41432300  28.20     NaN\n",
      "13\n",
      "13\n",
      "Enter Open    :-5\n",
      "[[4.92734645]]\n"
     ]
    },
    {
     "data": {
      "image/png": "[encoded data removed]",
      "text/plain": [
       "<Figure size 432x288 with 1 Axes>"
      ]
     },
     "metadata": {
      "needs_background": "light"
     },
     "output_type": "display_data"
    },
    {
     "name": "stdout",
     "output_type": "stream",
     "text": [
      "Accuracy   :- 0.6153846153846154\n",
      "              precision    recall  f1-score   support\n",
      "\n",
      "          25       0.67      0.67      0.67         6\n",
      "          26       0.60      0.60      0.60         5\n",
      "          27       0.00      0.00      0.00         0\n",
      "          28       1.00      0.50      0.67         2\n",
      "\n",
      "    accuracy                           0.62        13\n",
      "   macro avg       0.57      0.44      0.48        13\n",
      "weighted avg       0.69      0.62      0.64        13\n",
      "\n"
     ]
    },
    {
     "name": "stderr",
     "output_type": "stream",
     "text": [
      "C:\\Users\\thaku\\anaconda3\\lib\\site-packages\\sklearn\\metrics\\_classification.py:1245: UndefinedMetricWarning: Recall and F-score are ill-defined and being set to 0.0 in labels with no true samples. Use `zero_division` parameter to control this behavior.\n",
      "  _warn_prf(average, modifier, msg_start, len(result))\n",
      "C:\\Users\\thaku\\anaconda3\\lib\\site-packages\\sklearn\\metrics\\_classification.py:1245: UndefinedMetricWarning: Recall and F-score are ill-defined and being set to 0.0 in labels with no true samples. Use `zero_division` parameter to control this behavior.\n",
      "  _warn_prf(average, modifier, msg_start, len(result))\n",
      "C:\\Users\\thaku\\anaconda3\\lib\\site-packages\\sklearn\\metrics\\_classification.py:1245: UndefinedMetricWarning: Recall and F-score are ill-defined and being set to 0.0 in labels with no true samples. Use `zero_division` parameter to control this behavior.\n",
      "  _warn_prf(average, modifier, msg_start, len(result))\n"
     ]
    }
   ],
   "source": [
    "import matplotlib.pyplot as plt\n",
    "import numpy as np\n",
    "import pandas as pd\n",
    "from pandas.plotting import scatter_matrix\n",
    "from sklearn import linear_model\n",
    "from sklearn.metrics import accuracy_score,classification_report\n",
    "from sklearn.model_selection import train_test_split\n",
    "from sklearn.neighbors import KNeighborsClassifier\n",
    "\n",
    "path=\"C:\\\\Users\\\\thaku\\\\msft.csv\"\n",
    "name=[\"Date \"  ,\"Open  \" ,\"High \"   ,\"Low \",\" Close  \"  ,\"Volume\"  ,\"Adj.\" ,\"Close*\"]\n",
    "data=pd.read_csv(path,header=None,skiprows=1,names=name)\n",
    "print(data.head())\n",
    "x=np.array(data.iloc[:,2:3])\n",
    "y=np.array(data.iloc[:,3:4])\n",
    "'''\n",
    "print(x.ndim)\n",
    "print(y)\n",
    "'''\n",
    "x_train,x_test,y_train,y_test=train_test_split(x,y,test_size=.2)\n",
    "\n",
    "model=linear_model.LinearRegression()\n",
    "model.fit(x_train,y_train)\n",
    "\n",
    "#print(x_test.ndim)\n",
    "y_predicted=(model.predict(x_test))\n",
    "print(len(y_predicted))\n",
    "print(len(y_test))\n",
    "\n",
    "\n",
    "\n",
    "\n",
    "a=float(input(\"Enter Open    :-\"))\n",
    "b=model.predict(np.array([[a]]))\n",
    "print(b)\n",
    "\n",
    "\n",
    "\n",
    "\n",
    "plt.axis([24,30,24,30])\n",
    "plt.xlabel(\"Open  \")\n",
    "plt.ylabel(\" Close  \")\n",
    "plt.scatter(x,y)\n",
    "plt.plot(x_test,y_predicted,color=\"g\")\n",
    "plt.scatter(a,b,color=\"r\",marker=\"^\")\n",
    "plt.show()\n",
    "\n",
    "wwe=[int(i) for i in y_test]\n",
    "kk=[int(i) for i in y_predicted]\n",
    "print(\"Accuracy   :- {}\".format(accuracy_score(wwe,kk)))\n",
    "print(classification_report(wwe,kk))\n",
    "\n"
   ]
  },
  {
   "cell_type": "code",
   "execution_count": null,
   "id": "e8fa3f29",
   "metadata": {},
   "outputs": [],
   "source": []
  }
 ],
 "metadata": {
  "kernelspec": {
   "display_name": "Python 3",
   "language": "python",
   "name": "python3"
  },
  "language_info": {
   "codemirror_mode": {
    "name": "ipython",
    "version": 3
   },
   "file_extension": ".py",
   "mimetype": "text/x-python",
   "name": "python",
   "nbconvert_exporter": "python",
   "pygments_lexer": "ipython3",
   "version": "3.8.8"
  }
 },
 "nbformat": 4,
 "nbformat_minor": 5
}
